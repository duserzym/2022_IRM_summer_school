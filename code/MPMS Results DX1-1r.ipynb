{
 "cells": [
  {
   "cell_type": "markdown",
   "id": "0d5253d2",
   "metadata": {},
   "source": [
    "# MPMS Results on DX1-1r\n",
    "FC-ZFC-RT-SIRM\n",
    "\n",
    "Frequency dependency of Xusceptibility\n",
    "\n",
    "DX1-1R-FC-ZFC-RT-SIRM-AC_sweep.dat -- data file"
   ]
  },
  {
   "cell_type": "code",
   "execution_count": 1,
   "id": "3634e56f",
   "metadata": {},
   "outputs": [],
   "source": [
    "import numpy as np\n",
    "import pandas as pd\n",
    "from matplotlib import pyplot as plt\n",
    "import math"
   ]
  },
  {
   "cell_type": "code",
   "execution_count": 2,
   "id": "50ea0ebd",
   "metadata": {},
   "outputs": [],
   "source": [
    "##Sample mass in kg\n",
    "mass = 0.188*0.001 #TODO: change this for DX1-1r"
   ]
  },
  {
   "cell_type": "code",
   "execution_count": 3,
   "id": "36475971",
   "metadata": {},
   "outputs": [],
   "source": [
    "## Frequency values \n",
    "freqs = [1.000576 , 5.316651 , 28.257017, 150.471878, 800.461121]\n"
   ]
  },
  {
   "cell_type": "code",
   "execution_count": 4,
   "id": "a7f70d07",
   "metadata": {},
   "outputs": [],
   "source": [
    "## Row numbers \n",
    "m_start = 47\n",
    "FC_start = 47\n",
    "ZFC_start = 107\n",
    "RT_SIRM_cool_start = 168\n",
    "RT_SIRM_warm_start = 226\n",
    "X_start = 1215\n",
    "X_end = 1509\n",
    "\n",
    "n_freq = 5 ##number of different frequencies used"
   ]
  },
  {
   "cell_type": "code",
   "execution_count": 5,
   "id": "6e566000",
   "metadata": {},
   "outputs": [],
   "source": [
    "##Attempt no1 to not have to hard code in row shift\n",
    "\n",
    "#start_numbers =  [FC_start, ZFC_start, RT_SIRM_cool_start, RT_SIRM_warm_start, X_start]\n",
    "#for start_number in start_numbers:\n",
    "#    start_number = start_number - 47\n",
    "#    print(start_number)\n"
   ]
  },
  {
   "cell_type": "code",
   "execution_count": 6,
   "id": "e26570f6",
   "metadata": {},
   "outputs": [],
   "source": [
    "##Attempt no2 to not have to hard code in row shift\n",
    "\n",
    "##row_numbers = pd.DataFrame([47, 47, 337, 627, 863, 1156], ['m_start', 'FC_start', 'ZFC_start', 'RT_SIRM_cool_start', 'RT_SIRM_warm_start','X_start'], ['excel_number'])\n",
    "##row_numbers['df_number'] = row_numbers['excel_number'] - 47\n",
    "##row_numbers\n",
    "##row_numbers.iat[2,0]"
   ]
  },
  {
   "cell_type": "code",
   "execution_count": 7,
   "id": "4cfb3373",
   "metadata": {},
   "outputs": [
    {
     "data": {
      "text/plain": [
       "'C:\\\\Users\\\\murray98\\\\Documents\\\\IRM summer school\\\\code\\\\IRM-Summer-School-2022'"
      ]
     },
     "execution_count": 7,
     "metadata": {},
     "output_type": "execute_result"
    }
   ],
   "source": [
    "pwd ##check we are in the same place as the data\n"
   ]
  },
  {
   "cell_type": "code",
   "execution_count": 8,
   "id": "a30ba69c",
   "metadata": {},
   "outputs": [
    {
     "name": "stdout",
     "output_type": "stream",
     "text": [
      "     Comment  Time Stamp (sec)  Temperature (K)  Magnetic Field (Oe)  \\\n",
      "0        NaN      3.863749e+09         9.999759            25.334381   \n",
      "1        NaN      3.863749e+09        10.306988            25.334381   \n",
      "2        NaN      3.863749e+09        15.124522            25.334381   \n",
      "3        NaN      3.863749e+09        20.069038            25.334381   \n",
      "4        NaN      3.863749e+09        25.056728            25.334381   \n",
      "..       ...               ...              ...                  ...   \n",
      "235      NaN      3.863758e+09       280.036285            25.371988   \n",
      "236      NaN      3.863758e+09       285.123016            25.371988   \n",
      "237      NaN      3.863758e+09       290.121796            25.371988   \n",
      "238      NaN      3.863758e+09       295.004456            25.371988   \n",
      "239      NaN      3.863758e+09       299.945953            25.371988   \n",
      "\n",
      "     Moment (emu)  M. Std. Err. (emu)  Transport Action  Averaging Time (sec)  \\\n",
      "0        0.000592        1.038774e-07                 1                     5   \n",
      "1        0.000788        1.384405e-07                 1                     5   \n",
      "2        0.000637        1.454184e-06                 1                     5   \n",
      "3        0.000392        9.103558e-07                 1                     5   \n",
      "4        0.000254        6.452201e-07                 1                     5   \n",
      "..            ...                 ...               ...                   ...   \n",
      "235      0.000036        6.429941e-09                 1                     5   \n",
      "236      0.000036        6.411845e-09                 1                     5   \n",
      "237      0.000036        6.907224e-09                 1                     5   \n",
      "238      0.000036        6.622049e-09                 1                     5   \n",
      "239      0.000036        6.830308e-09                 1                     5   \n",
      "\n",
      "     Frequency (Hz)  Peak Amplitude (mm)  ...  Map 07  Map 08  Map 09  Map 10  \\\n",
      "0         12.906113             4.976753  ...     NaN     NaN     NaN     NaN   \n",
      "1         12.906113             4.976769  ...     NaN     NaN     NaN     NaN   \n",
      "2         12.906113             4.976708  ...     NaN     NaN     NaN     NaN   \n",
      "3         12.906113             4.976700  ...     NaN     NaN     NaN     NaN   \n",
      "4         12.906113             4.976670  ...     NaN     NaN     NaN     NaN   \n",
      "..              ...                  ...  ...     ...     ...     ...     ...   \n",
      "235       12.906113             5.002437  ...     NaN     NaN     NaN     NaN   \n",
      "236       12.906113             5.002485  ...     NaN     NaN     NaN     NaN   \n",
      "237       12.906113             5.002674  ...     NaN     NaN     NaN     NaN   \n",
      "238       12.906113             5.002219  ...     NaN     NaN     NaN     NaN   \n",
      "239       12.906113             5.001375  ...     NaN     NaN     NaN     NaN   \n",
      "\n",
      "     Map 11  Map 12  Map 13  Map 14  Map 15  Map 16  \n",
      "0       NaN     NaN     NaN     NaN     NaN     NaN  \n",
      "1       NaN     NaN     NaN     NaN     NaN     NaN  \n",
      "2       NaN     NaN     NaN     NaN     NaN     NaN  \n",
      "3       NaN     NaN     NaN     NaN     NaN     NaN  \n",
      "4       NaN     NaN     NaN     NaN     NaN     NaN  \n",
      "..      ...     ...     ...     ...     ...     ...  \n",
      "235     NaN     NaN     NaN     NaN     NaN     NaN  \n",
      "236     NaN     NaN     NaN     NaN     NaN     NaN  \n",
      "237     NaN     NaN     NaN     NaN     NaN     NaN  \n",
      "238     NaN     NaN     NaN     NaN     NaN     NaN  \n",
      "239     NaN     NaN     NaN     NaN     NaN     NaN  \n",
      "\n",
      "[240 rows x 88 columns]\n"
     ]
    }
   ],
   "source": [
    "##Read in data\n",
    "df = pd.read_csv(r'C:\\Users\\murray98\\Documents\\IRM summer school\\mpms_data-20220612T225342Z-001\\mpms_data\\DX1-1r-FC-ZFC-RT-SIRM-VSM-SWEEP.dat', sep=\",\", skiprows=44 )\n",
    "print(df)"
   ]
  },
  {
   "cell_type": "code",
   "execution_count": 9,
   "id": "fbaae438",
   "metadata": {},
   "outputs": [],
   "source": [
    "##Convert to SI units\n",
    "df['Moment (Am2/kg)'] = df['Moment (emu)'] /(1000*mass)"
   ]
  },
  {
   "cell_type": "code",
   "execution_count": 10,
   "id": "f1d1c979",
   "metadata": {},
   "outputs": [
    {
     "name": "stdout",
     "output_type": "stream",
     "text": [
      "FC_data:\n",
      "    Temperature (K)  Moment (Am2/kg)\n",
      "0          9.999759         0.003147\n",
      "1         10.306988         0.004191\n",
      "2         15.124522         0.003387\n",
      "3         20.069038         0.002083\n",
      "4         25.056728         0.001352\n",
      "5         30.031979         0.000849\n",
      "6         35.051380         0.000479\n",
      "7         40.067661         0.000323\n",
      "8         45.048210         0.000278\n",
      "9         50.011703         0.000272\n",
      "10        55.080856         0.000268\n",
      "11        60.020607         0.000264\n",
      "12        65.014122         0.000260\n",
      "13        70.054092         0.000257\n",
      "14        75.179756         0.000254\n",
      "15        80.089394         0.000250\n",
      "16        85.024612         0.000247\n",
      "17        90.041832         0.000244\n",
      "18        95.001167         0.000238\n",
      "19       100.009811         0.000232\n",
      "20       105.120575         0.000226\n",
      "21       110.118866         0.000221\n",
      "22       115.020805         0.000217\n",
      "23       120.022156         0.000215\n",
      "24       125.147629         0.000213\n",
      "25       130.009537         0.000211\n",
      "26       135.021759         0.000210\n",
      "27       140.094559         0.000208\n",
      "28       145.132034         0.000207\n",
      "29       150.017944         0.000206\n",
      "30       155.026688         0.000205\n",
      "31       160.048492         0.000204\n",
      "32       165.019684         0.000203\n",
      "33       170.066177         0.000201\n",
      "34       175.073959         0.000200\n",
      "35       180.124512         0.000199\n",
      "36       185.043427         0.000198\n",
      "37       190.003815         0.000197\n",
      "38       195.102448         0.000196\n",
      "39       200.025604         0.000195\n",
      "40       205.079025         0.000194\n",
      "41       210.169144         0.000193\n",
      "42       215.031967         0.000192\n",
      "43       220.113968         0.000191\n",
      "44       225.063538         0.000190\n",
      "45       230.016830         0.000189\n",
      "46       235.012939         0.000188\n",
      "47       240.093628         0.000187\n",
      "48       245.025894         0.000186\n",
      "49       250.049637         0.000185\n",
      "50       255.110519         0.000184\n",
      "51       260.062073         0.000183\n",
      "52       265.071411         0.000182\n",
      "53       270.116211         0.000181\n",
      "54       275.013031         0.000180\n",
      "55       280.016357         0.000179\n",
      "56       285.131500         0.000178\n",
      "57       290.059143         0.000178\n",
      "58       295.090881         0.000177\n",
      "59       299.941040         0.000175\n",
      "ZFC_data:\n",
      "     Temperature (K)  Moment (Am2/kg)\n",
      "60          9.999673         0.001009\n",
      "61         10.340407         0.001318\n",
      "62         15.101153         0.000900\n",
      "63         20.013092         0.000452\n",
      "64         25.005796         0.000316\n",
      "..               ...              ...\n",
      "116       285.058594         0.000178\n",
      "117       290.171875         0.000178\n",
      "118       295.002045         0.000177\n",
      "119       299.946136         0.000175\n",
      "120       300.001373         0.000227\n",
      "\n",
      "[61 rows x 2 columns]\n"
     ]
    }
   ],
   "source": [
    "d = 47 ##number of rows shifted from the excel row numbers\n",
    "\n",
    "FC_data = df.loc[FC_start -d : ZFC_start-d-1, ['Temperature (K)','Moment (Am2/kg)']]\n",
    "print('FC_data:')\n",
    "print(FC_data)\n",
    "ZFC_data = df.loc[ZFC_start-d : RT_SIRM_cool_start-d-1, ['Temperature (K)','Moment (Am2/kg)']]\n",
    "print('ZFC_data:')\n",
    "print(ZFC_data)\n",
    "\n",
    "RT_SIRM_cool_data = df.loc[RT_SIRM_cool_start-d : RT_SIRM_warm_start-d-1, ['Temperature (K)','Moment (Am2/kg)']]\n",
    "\n",
    "RT_SIRM_warm_data = df.loc[RT_SIRM_warm_start-d : X_start-d-1, ['Temperature (K)','Moment (Am2/kg)']]\n",
    "\n"
   ]
  },
  {
   "cell_type": "code",
   "execution_count": 11,
   "id": "e3428e6c",
   "metadata": {
    "scrolled": true
   },
   "outputs": [
    {
     "data": {
      "text/plain": [
       "<matplotlib.legend.Legend at 0x17e5ec6e7c0>"
      ]
     },
     "execution_count": 11,
     "metadata": {},
     "output_type": "execute_result"
    },
    {
     "data": {
      "image/png": "[encoded data removed]",
      "text/plain": [
       "<Figure size 1080x576 with 1 Axes>"
      ]
     },
     "metadata": {
      "needs_background": "light"
     },
     "output_type": "display_data"
    }
   ],
   "source": [
    "fig,ax = plt.subplots(figsize=(15,8))\n",
    "\n",
    "\n",
    "ax.plot(FC_data[\"Temperature (K)\"] , FC_data['Moment (Am2/kg)'], label = 'FC', color = 'blue')\n",
    "ax.plot(ZFC_data[\"Temperature (K)\"] , ZFC_data['Moment (Am2/kg)'], label = 'ZFC', color = 'red')\n",
    "ax.plot(RT_SIRM_cool_data[\"Temperature (K)\"] , RT_SIRM_cool_data['Moment (Am2/kg)'], label = 'RT_SIRM_cool', color='black')\n",
    "ax.plot(RT_SIRM_warm_data[\"Temperature (K)\"] , RT_SIRM_warm_data['Moment (Am2/kg)'], label = 'RT_SIRM_warm', color='green')\n",
    "\n",
    "ax.set_xlabel('Temperature (K)')\n",
    "ax.set_ylabel('Moment (Am2/kg)')\n",
    "ax.set_title('DX1-1r FC-ZFC-RT-SIRM')\n",
    "\n",
    "ax.legend()\n"
   ]
  },
  {
   "cell_type": "code",
   "execution_count": null,
   "id": "fc7a976b",
   "metadata": {},
   "outputs": [],
   "source": []
  },
  {
   "cell_type": "markdown",
   "id": "19e3f2df",
   "metadata": {},
   "source": [
    "##Observations\n",
    "\n",
    "FC starts above ZFC (0.0037 vs 0.0032 Am2/kg) \n",
    "\n",
    "Both drop steeply from 0K to 120K \n",
    "\n",
    "ZFC changes slope at 30K, shallows then steeper drop at 120K, \n",
    "\n",
    "These temperatures can be quantified by taking derivatives from the slopes. \n",
    "\n",
    "RT_SIRM_cool is much higher than the RT_SIRM_warm at high temperatures (above 100K) \n",
    "RT_SIRM_warm flattens off \n"
   ]
  },
  {
   "cell_type": "code",
   "execution_count": 12,
   "id": "ca95370a",
   "metadata": {},
   "outputs": [
    {
     "data": {
      "text/plain": [
       "<matplotlib.legend.Legend at 0x17e5f41d220>"
      ]
     },
     "execution_count": 12,
     "metadata": {},
     "output_type": "execute_result"
    },
    {
     "data": {
      "image/png": "[encoded data removed]",
      "text/plain": [
       "<Figure size 1080x576 with 1 Axes>"
      ]
     },
     "metadata": {
      "needs_background": "light"
     },
     "output_type": "display_data"
    }
   ],
   "source": [
    "fig,ax = plt.subplots(figsize=(15,8))\n",
    "\n",
    "\n",
    "\n",
    "ax.plot(RT_SIRM_cool_data[\"Temperature (K)\"] , RT_SIRM_cool_data['Moment (Am2/kg)'], label = 'RT_SIRM_cool', color='black')\n",
    "ax.plot(RT_SIRM_warm_data[\"Temperature (K)\"] , RT_SIRM_warm_data['Moment (Am2/kg)'], label = 'RT_SIRM_warm', color='green')\n",
    "\n",
    "ax.set_xlabel('Temperature (K)')\n",
    "ax.set_ylabel('Moment (Am2/kg)')\n",
    "ax.set_title('DX1-1r FC-ZFC-RT-SIRM')\n",
    "\n",
    "ax.legend()"
   ]
  },
  {
   "cell_type": "markdown",
   "id": "762c0fbc",
   "metadata": {},
   "source": [
    "## Frequency dependence of AC susceptibility "
   ]
  },
  {
   "cell_type": "code",
   "execution_count": 13,
   "id": "d059f244",
   "metadata": {},
   "outputs": [
    {
     "name": "stdout",
     "output_type": "stream",
     "text": [
      "Empty DataFrame\n",
      "Columns: [Temperature (K), AC Susceptibility (emu/Oe), AC Frequency (Hz)]\n",
      "Index: []\n"
     ]
    }
   ],
   "source": [
    "##Split out section for freq dependence of AC susceptibility\n",
    "X_data = df.loc[(X_start - m_start):, ['Temperature (K)','AC Susceptibility (emu/Oe)', 'AC Frequency (Hz)']]\n",
    "print(X_data)"
   ]
  },
  {
   "cell_type": "code",
   "execution_count": 14,
   "id": "35bd59e1",
   "metadata": {},
   "outputs": [
    {
     "data": {
      "text/plain": [
       "3.141592653589793"
      ]
     },
     "execution_count": 14,
     "metadata": {},
     "output_type": "execute_result"
    }
   ],
   "source": [
    "##Make my life 4 letters easier\n",
    "pi = math.pi\n",
    "pi"
   ]
  },
  {
   "cell_type": "code",
   "execution_count": 15,
   "id": "853fdf51",
   "metadata": {},
   "outputs": [
    {
     "data": {
      "text/plain": [
       "<bound method NDFrame.head of Empty DataFrame\n",
       "Columns: [Temperature (K), AC Susceptibility (emu/Oe), AC Frequency (Hz), AC Susceptibility (m3/kg)]\n",
       "Index: []>"
      ]
     },
     "execution_count": 15,
     "metadata": {},
     "output_type": "execute_result"
    }
   ],
   "source": [
    "## Convert from CGS to SI and normalise by mass\n",
    "X_data['AC Susceptibility (m3/kg)'] = X_data['AC Susceptibility (emu/Oe)'] * 4 * pi * 1e-6 /mass\n",
    "X_data.head"
   ]
  },
  {
   "cell_type": "code",
   "execution_count": 16,
   "id": "a841de1b",
   "metadata": {
    "scrolled": false
   },
   "outputs": [
    {
     "data": {
      "text/plain": [
       "<AxesSubplot:xlabel='Temperature (K)', ylabel='AC Susceptibility (m3/kg)'>"
      ]
     },
     "execution_count": 16,
     "metadata": {},
     "output_type": "execute_result"
    },
    {
     "data": {
      "image/png": "[encoded data removed]",
      "text/plain": [
       "<Figure size 432x288 with 1 Axes>"
      ]
     },
     "metadata": {
      "needs_background": "light"
     },
     "output_type": "display_data"
    }
   ],
   "source": [
    "##Plot all data together\n",
    "X_data.plot.scatter(x=\"Temperature (K)\", y='AC Susceptibility (m3/kg)')"
   ]
  },
  {
   "cell_type": "code",
   "execution_count": 17,
   "id": "a6c39261",
   "metadata": {},
   "outputs": [],
   "source": [
    "##Neater way of doing the same thing as below to split the data by frequency, unfinished\n",
    "\n",
    "##freqs = [2, 6, 29, 151, 801]\n",
    "##i=0\n",
    "##for freq in freqs:\n",
    "  ##  mask = X_data['AC Frequency (Hz)'] <= freq\n",
    "  ##  X_freq = X_data[mask]\n",
    "  ##  X_freq_rest = X_freq[~mask]\n",
    "  ##  print(X_freq)"
   ]
  },
  {
   "cell_type": "code",
   "execution_count": 18,
   "id": "e2d79c16",
   "metadata": {},
   "outputs": [
    {
     "name": "stdout",
     "output_type": "stream",
     "text": [
      "Empty DataFrame\n",
      "Columns: [Temperature (K), AC Susceptibility (emu/Oe), AC Frequency (Hz), AC Susceptibility (m3/kg)]\n",
      "Index: []\n",
      "Empty DataFrame\n",
      "Columns: [Temperature (K), AC Susceptibility (emu/Oe), AC Frequency (Hz), AC Susceptibility (m3/kg)]\n",
      "Index: []\n"
     ]
    }
   ],
   "source": [
    "mask = X_data['AC Frequency (Hz)'] <= (freqs[0]+1)\n",
    "X_freq1 = X_data[mask]\n",
    "print(X_freq1)\n",
    "\n",
    "X_freq_1 = X_data[~mask]\n",
    "print (X_freq_1)"
   ]
  },
  {
   "cell_type": "code",
   "execution_count": 19,
   "id": "56d6dcfe",
   "metadata": {},
   "outputs": [
    {
     "name": "stdout",
     "output_type": "stream",
     "text": [
      "Empty DataFrame\n",
      "Columns: [Temperature (K), AC Susceptibility (emu/Oe), AC Frequency (Hz), AC Susceptibility (m3/kg)]\n",
      "Index: []\n",
      "Empty DataFrame\n",
      "Columns: [Temperature (K), AC Susceptibility (emu/Oe), AC Frequency (Hz), AC Susceptibility (m3/kg)]\n",
      "Index: []\n"
     ]
    }
   ],
   "source": [
    "mask2 = (X_data['AC Frequency (Hz)'] < (freqs[1]+1)) \n",
    "X_freq2 = X_freq_1[mask2]\n",
    "print(X_freq2)\n",
    "X_freq_2 = X_freq_1[~mask2]\n",
    "print(X_freq_2)"
   ]
  },
  {
   "cell_type": "code",
   "execution_count": 20,
   "id": "40778b0c",
   "metadata": {},
   "outputs": [
    {
     "name": "stdout",
     "output_type": "stream",
     "text": [
      "Empty DataFrame\n",
      "Columns: [Temperature (K), AC Susceptibility (emu/Oe), AC Frequency (Hz), AC Susceptibility (m3/kg)]\n",
      "Index: []\n",
      "Empty DataFrame\n",
      "Columns: [Temperature (K), AC Susceptibility (emu/Oe), AC Frequency (Hz), AC Susceptibility (m3/kg)]\n",
      "Index: []\n"
     ]
    }
   ],
   "source": [
    "mask3 = (X_data['AC Frequency (Hz)'] < (freqs[2]+1)) \n",
    "X_freq3 = X_freq_2[mask3]\n",
    "print(X_freq3)\n",
    "X_freq_3 = X_freq_2[~mask3]\n",
    "print(X_freq_3)"
   ]
  },
  {
   "cell_type": "code",
   "execution_count": 21,
   "id": "320d1bbf",
   "metadata": {
    "scrolled": false
   },
   "outputs": [
    {
     "name": "stdout",
     "output_type": "stream",
     "text": [
      "Empty DataFrame\n",
      "Columns: [Temperature (K), AC Susceptibility (emu/Oe), AC Frequency (Hz), AC Susceptibility (m3/kg)]\n",
      "Index: []\n",
      "Empty DataFrame\n",
      "Columns: [Temperature (K), AC Susceptibility (emu/Oe), AC Frequency (Hz), AC Susceptibility (m3/kg)]\n",
      "Index: []\n"
     ]
    }
   ],
   "source": [
    "mask4 = (X_data['AC Frequency (Hz)'] < (freqs[3]+1)) \n",
    "X_freq4 = X_freq_3[mask4]\n",
    "print(X_freq4)\n",
    "X_freq_4 = X_freq_3[~mask4]\n",
    "print(X_freq_4)"
   ]
  },
  {
   "cell_type": "code",
   "execution_count": 22,
   "id": "6fde50e6",
   "metadata": {},
   "outputs": [
    {
     "name": "stdout",
     "output_type": "stream",
     "text": [
      "Empty DataFrame\n",
      "Columns: [Temperature (K), AC Susceptibility (emu/Oe), AC Frequency (Hz), AC Susceptibility (m3/kg)]\n",
      "Index: []\n"
     ]
    }
   ],
   "source": [
    "X_freq5 = X_freq_4\n",
    "print(X_freq5)"
   ]
  },
  {
   "cell_type": "code",
   "execution_count": 23,
   "id": "fb4a06fd",
   "metadata": {},
   "outputs": [
    {
     "data": {
      "text/plain": [
       "<matplotlib.legend.Legend at 0x17e5f975d60>"
      ]
     },
     "execution_count": 23,
     "metadata": {},
     "output_type": "execute_result"
    },
    {
     "data": {
      "image/png": "[encoded data removed]",
      "text/plain": [
       "<Figure size 1080x720 with 1 Axes>"
      ]
     },
     "metadata": {
      "needs_background": "light"
     },
     "output_type": "display_data"
    }
   ],
   "source": [
    "fig,ax = plt.subplots(figsize=(15,10))\n",
    "\n",
    "\n",
    "ax.plot(X_freq1[\"Temperature (K)\"] , X_freq1['AC Susceptibility (m3/kg)'], label = f'{freqs[0]} Hz')\n",
    "ax.plot(X_freq2[\"Temperature (K)\"] , X_freq2['AC Susceptibility (m3/kg)'], label = f'{freqs[1]} Hz')\n",
    "ax.plot(X_freq3[\"Temperature (K)\"] , X_freq3['AC Susceptibility (m3/kg)'], label = f'{freqs[2]} Hz')\n",
    "ax.plot(X_freq4[\"Temperature (K)\"] , X_freq4['AC Susceptibility (m3/kg)'], label = f'{freqs[3]} Hz')\n",
    "ax.plot(X_freq5[\"Temperature (K)\"] , X_freq5['AC Susceptibility (m3/kg)'], label = f'{freqs[4]} Hz')\n",
    "\n",
    "ax.set_xlabel('Temperature (K)')\n",
    "ax.set_ylabel('AC Susceptibility (m3/kg)')\n",
    "\n",
    "ax.legend()\n"
   ]
  },
  {
   "cell_type": "markdown",
   "id": "5b22effe",
   "metadata": {},
   "source": [
    "##Observations \n",
    "\n",
    "NOTE: 800Hz freq has measured incorrectly\n",
    "\n",
    "All curves: steep drop down to 40K increases to 120K slow drop to 300K \n",
    "At all T, susceptibility is lower for higher frequencies - check this is true for all sections of the graph.\n",
    "\n"
   ]
  },
  {
   "cell_type": "code",
   "execution_count": null,
   "id": "0187740e",
   "metadata": {},
   "outputs": [],
   "source": []
  },
  {
   "cell_type": "code",
   "execution_count": null,
   "id": "978a6f54",
   "metadata": {},
   "outputs": [],
   "source": []
  }
 ],
 "metadata": {
  "kernelspec": {
   "display_name": "Python 3 (ipykernel)",
   "language": "python",
   "name": "python3"
  },
  "language_info": {
   "codemirror_mode": {
    "name": "ipython",
    "version": 3
   },
   "file_extension": ".py",
   "mimetype": "text/x-python",
   "name": "python",
   "nbconvert_exporter": "python",
   "pygments_lexer": "ipython3",
   "version": "3.9.7"
  }
 },
 "nbformat": 4,
 "nbformat_minor": 5
}
